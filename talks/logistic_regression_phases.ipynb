{
 "cells": [
  {
   "cell_type": "markdown",
   "metadata": {},
   "source": [
    "# Phases of the Ising Model with Logistic Regression\n",
    "\n",
    "This notebook is modified from notebooks originally developed in [Pankaj Mehta's ML for physics course](http://physics.bu.edu/~pankajm/PY580.html).\n"
   ]
  },
  {
   "cell_type": "markdown",
   "metadata": {},
   "source": [
    "#### Preamble"
   ]
  },
  {
   "cell_type": "code",
   "execution_count": 1,
   "metadata": {},
   "outputs": [],
   "source": [
    "## Preamble / required packages\n",
    "import numpy as np\n",
    "np.random.seed(0)\n",
    "\n",
    "# Import local plotting functions and in-notebook display functions\n",
    "import matplotlib.pyplot as plt\n",
    "from IPython.display import Image, display\n",
    "%matplotlib inline\n",
    "\n",
    "import warnings\n",
    "# Comment this out to activate warnings\n",
    "warnings.filterwarnings('ignore')\n"
   ]
  },
  {
   "cell_type": "markdown",
   "metadata": {},
   "source": [
    "## Learning Goal\n",
    "The goal of this notebook is to show how one can employ Logistic Regression to classify the states of the 2D Ising model according to their phase. We will discuss overfitting, regularization, and learn how to use the scikit-learn library. We will also examine the role of the optimizer in making predictions.\n",
    "\n",
    "Recall that the energy function of the classical Ising model is given by the Hamiltonian\n",
    "\n",
    "$$ H = -J\\sum_{\\langle ij\\rangle}S_{i}S_j,\\qquad \\qquad S_j\\in\\{\\pm 1\\} $$\n",
    "\n",
    "where the lattice site indices $i,j$ run over all nearest neighbors of a 2D square lattice, and $J$ is some arbitrary interaction energy scale. We adopt periodic boundary conditions. In two dimensions, Onsager proved that this model undergoes a thermal phase transition in the thermodynamic limit from an ordered ferromagnet with all spins aligned to a disordered phase at the critical temperature $T_c/J=2/\\log(1+\\sqrt{2})\\approx 2.26$. For any finite system size, this critical point is expanded to a critical region around $T_c$.\n",
    "\n"
   ]
  },
  {
   "cell_type": "markdown",
   "metadata": {},
   "source": [
    "# Perform an experiment and record observations\n",
    "\n",
    "+ For the Ising model, we saw that linear regression was the best choice of machine learning methods, because it effectively finds the coupling matrix $J$ for a Hamiltonian\n",
    "+ Most of the time, our machine learning model only approximates the generator, which usually has a functional form that defies an exact representation using the ML model\n",
    "+ Here, we will again use the Ising model as our experiment. However, instead of regressing energies based on microstates, we instead will ask a bigger question: can we predict the phase of the system based on only the microstate? \n",
    "+ If we can successfully perform this operation, then we've essentially learned a computational surrogate for our experiments, which might be expensive to perform individually. The surrogates could be used to find critical points, for example.\n",
    "\n",
    "## The Ising model\n",
    "\n",
    "Given an Ising state, we would like to classify whether it belongs to the ordered or the disordered phase, without any additional information other than the spin configuration itself. This categorical machine learning problem is well suited for logistic regression. Notice that, for the purposes of applying logistic regression, the 2D spin state of the Ising model will be flattened out to a 1D array, so it will not be easy to learn information about the structure of the contiguous ordered 2D domains [see figure below]. Such information can be incorporated using other methods such as multi-layer deep convolutional neural networks (CNNs), see Secs. IX, X and XI of the review and the corresponding notebooks.\n",
    "\n",
    "## The 2D Ising Dataset\n",
    "\n",
    "+ We consider the 2D Ising model on a $40\\times 40$ square lattice, and use Monte-Carlo (MC) sampling to prepare $10^4$ states at every fixed temperature $T$ out of a pre-defined set $T\\in[0.25,0.5,\\cdots,4.0]$. \n",
    "+ Using Onsager's criterion, we can assign a label to each state according to its phase: $0$ if the state is disordered, and $1$ if it is ordered. Our goal is to predict the phase of a sample given the spin configuration.\n",
    "+ It is well-known that, near the critical temperature $T_c$, the ferromagnetic correlation length diverges which, among other things, leads to a critical slowing down of the MC algorithm. Therefore, we expect identifying the phases to be harder in the critical region. With this in mind, consider the following three types of states: ordered ($T/J<2.0$), critical ($2.0\\leq T/J\\leq 2.5$) and disordered ($T/J>2.5$).\n",
    "+ We use both ordered and disordered states to train the logistic regressor and once the supervised training procedure is complete, we evaluate the performance of our classification model on unseen ordered, disordered and critical states. "
   ]
  },
  {
   "cell_type": "code",
   "execution_count": null,
   "metadata": {},
   "outputs": [],
   "source": []
  },
  {
   "cell_type": "code",
   "execution_count": null,
   "metadata": {},
   "outputs": [],
   "source": []
  },
  {
   "cell_type": "code",
   "execution_count": null,
   "metadata": {},
   "outputs": [],
   "source": []
  },
  {
   "cell_type": "markdown",
   "metadata": {},
   "source": [
    "# Load the Ising dataset\n",
    "We now load in the data which is hosted on Pankaj Mehta's [website](http://physics.bu.edu/~pankajm/MLnotebooks.html)."
   ]
  },
  {
   "cell_type": "code",
   "execution_count": 16,
   "metadata": {},
   "outputs": [],
   "source": [
    "import pickle, os\n",
    "from urllib.request import urlopen\n",
    "\n",
    "from sklearn.model_selection import train_test_split\n",
    "\n",
    "class IsingSimulation:\n",
    "    \"\"\"\n",
    "    A container class for the Ising model simulation data.\n",
    "    \"\"\"\n",
    "\n",
    "    def __init__(self):\n",
    "        self.load_simulation()\n",
    "\n",
    "    def load_simulation(self):\n",
    "        \"\"\"\n",
    "        Load the compressed data and format it into a configuration amenable to \n",
    "        machine learning.\n",
    "        \"\"\"\n",
    "        ## URL of data\n",
    "        url_main = \"https://physics.bu.edu/~pankajm/ML-Review-Datasets/isingMC/\"\n",
    "        # The data consists of 16*10000 samples taken in T=np.arange(0.25,4.0001,0.25):\n",
    "        data_file_name = \"Ising2DFM_reSample_L40_T=All.pkl\"\n",
    "        # The labels are obtained from the following file:\n",
    "        label_file_name = \"Ising2DFM_reSample_L40_T=All_labels.pkl\"\n",
    "\n",
    "        # Ising model parameters used in the simulation\n",
    "        self.L = 40  # linear system size\n",
    "        self.J = -1.0  # Ising interaction\n",
    "        self.T = np.linspace(0.25, 4.0, 16)  # set of temperatures\n",
    "        self.T_c = 2.26  # Onsager critical temperature in the TD limit\n",
    "\n",
    "        # Load dataset into numpy\n",
    "        X_all = pickle.load(\n",
    "            urlopen(url_main + data_file_name)\n",
    "        )  # pickle reads the file and returns the Python object (1D array, compressed bits)\n",
    "        X_all = np.unpackbits(X_all).reshape(\n",
    "            -1, 1600\n",
    "        )  # Decompress array and reshape for convenience\n",
    "        X_all = X_all.astype(\"int\")\n",
    "        X_all[\n",
    "            np.where(X_all == 0)\n",
    "        ] = -1  # map 0 state to -1 (Ising variable can take values +/-1)\n",
    "        self.X_all = X_all\n",
    "\n",
    "        # LABELS (convention is 1 for ordered states and 0 for disordered states)\n",
    "        labels = pickle.load(\n",
    "            urlopen(url_main + label_file_name)\n",
    "        )\n",
    "        self.labels = labels\n",
    "        ##  pickle reads the file and returns the Python object (here just a 1D array with\n",
    "        ##  binary labels)\n",
    "        self.num_classes = np.unique(self.labels) # should be 2: ordered or disordered\n",
    "\n",
    "        \n",
    "    def reshape_datapoint(self, x):\n",
    "        \"\"\"\n",
    "        Given a single simulation snapshot, reshape into original square lattice\n",
    "        \"\"\"\n",
    "        return x.reshape(self.L, self.L)\n",
    "        \n",
    "    def find_magnetization(x, axis=-1):\n",
    "        \"\"\"\n",
    "        Given a single simulation snapshot, calculate the magnetization\n",
    "        \"\"\"\n",
    "        return np.mean(x, axis=axis)\n",
    "\n",
    "    def split_data(self, split_ratio=0.5):\n",
    "        \"\"\"\n",
    "        Split data into training and test sets\n",
    "        \n",
    "        Parameters:\n",
    "        split_ratio (float): ratio of training data to total data\n",
    "        \"\"\"\n",
    "\n",
    "        # pick random data points from ordered and disordered states\n",
    "        # to create the training and test sets\n",
    "        X_train, X_test, y_train, y_test = train_test_split(\n",
    "            self.X_all, self.labels, train_size=split_ratio, test_size=1.0 - split_ratio\n",
    "        )\n",
    "\n",
    "        return X_train, X_test, y_train, y_test\n",
    "\n",
    "    \n",
    "\n",
    "dataset = IsingSimulation()"
   ]
  },
  {
   "cell_type": "code",
   "execution_count": 35,
   "metadata": {},
   "outputs": [
    {
     "data": {
      "image/png": "[encoded data removed]",
      "text/plain": [
       "<Figure size 640x480 with 3 Axes>"
      ]
     },
     "metadata": {},
     "output_type": "display_data"
    }
   ],
   "source": [
    "##### plot a few representative Ising states\n",
    "fig, axarr = plt.subplots(nrows=1, ncols=3)\n",
    "\n",
    "axarr[0].imshow(dataset.reshape_datapoint(dataset.X_all[20001]))\n",
    "axarr[0].set_title('$\\\\mathrm{ordered\\\\ phase}$',fontsize=16)\n",
    "axarr[0].tick_params(labelsize=16)\n",
    "\n",
    "axarr[1].imshow(dataset.reshape_datapoint(dataset.X_all[80001]))\n",
    "axarr[1].set_title('$\\\\mathrm{critical\\\\ region}$',fontsize=16)\n",
    "axarr[1].tick_params(labelsize=16)\n",
    "\n",
    "axarr[2].imshow(dataset.reshape_datapoint(dataset.X_all[150001]))\n",
    "axarr[2].set_title('$\\\\mathrm{disordered\\\\ phase}$',fontsize=16)\n",
    "axarr[2].tick_params(labelsize=16)\n",
    "\n",
    "fig.subplots_adjust(right=2.0)\n",
    "\n",
    "plt.show()\n"
   ]
  },
  {
   "cell_type": "markdown",
   "metadata": {},
   "source": [
    "## Logistic regression\n",
    "\n",
    "+ Earlier, we used linear regression to fit the energy of the Ising model given observations of the spin configuration\n",
    "+ Energy is a continuous variable, that changes relatively smoothly in response to small changes in microstates (such as individual spin flips)\n",
    "+ Phase is a different label, more akin to *classification* and not *regression*.\n",
    "\n",
    "**Idea: perform a linear regression, and then assign a label by applying a nonlinear function to the linear output**\n",
    "\n",
    "Logistic regression:\n",
    "$$\n",
    "\\hat y_i = \\dfrac{1}{1 + \\exp(- A \\cdot X_i)}\n",
    "$$\n",
    "Where $A$ is a learnable parameter vector that defines the relative weight of the different observed features in our dataset. Our goal will be for $hat y_i$ to match the true label (phase), $y_i$. However, because the logistic function is sigmoidal, $y_i$ will be $\\pm 1$ for most values of $X$.\n",
    "\n",
    "Can relate this to  linear regression problem through the use of a \"link function\" $g(.)$\n",
    "$$\n",
    "A \\cdot X_i = g(y_i) \\equiv \\log(y_i/(1 - y_i))\n",
    "$$"
   ]
  },
  {
   "cell_type": "markdown",
   "metadata": {},
   "source": [
    "\n",
    "\n",
    "## How do we fit our model?\n",
    "\n",
    "+ A seemingly obvious choice: transform our labels/regression targets with the link function $g$ and then fit a linear regression using standard methods\n",
    "+ + So far with have fit linear models with matrix inversion and iterative approaches, but [other methods exist](https://scikit-learn-extra.readthedocs.io/en/stable/auto_examples/plot_robust_regression_toy.html)\n",
    "\n",
    "\n",
    "+ Issues with performing ordinary least squares on transformed data:\n",
    "+ + Linear regression with OLS (ie, matrix methods) assumes errors are normally distributed. Without any additional information, we might assume that the measurements ($X_i$) have normally-distributed errors, but that doesn't mean that $g(X_i)$ has normal errors\n",
    "+ + In practice, this causes certain errors to be overweighted based on the \n",
    "+ + Can look at the residuals between predictions and true on training data; we want \"uniform scatter\" that we can attribute to uncertainty rather than systematic modelling error\n",
    "\n",
    "\n",
    "+ Better options: Fit untransformed data directly via maximum likelihood fitting, via iterative methods like gradient descent, Newton–Raphson, quasi-Newton\n",
    "\n",
    "\n",
    "\n",
    "### Other link functions exist for different data types\n",
    "\n",
    "+ Count data: logarithmic transform\n",
    "+ Power law data: double logarithm\n",
    "+ Poisson and Binomial: rate depends on linear transform\n",
    "\n",
    "This class of models is sometimes called [General Linear Models](https://en.wikipedia.org/wiki/Generalized_linear_model)"
   ]
  },
  {
   "cell_type": "code",
   "execution_count": 101,
   "metadata": {},
   "outputs": [
    {
     "name": "stdout",
     "output_type": "stream",
     "text": [
      "Classification accuracy on training set:  0.6948375\n",
      "Classification accuracy on test set:  0.6633\n"
     ]
    }
   ],
   "source": [
    "## Fit logistic regression model\n",
    "from sklearn import linear_model\n",
    "\n",
    "## pick random data points from ordered and disordered states\n",
    "X_train, X_test, y_train, y_test = dataset.split_data()\n",
    "\n",
    "model_logistic = linear_model.LogisticRegression()\n",
    "\n",
    "model_logistic.fit(X_train, y_train)\n",
    "\n",
    "y_pred_train = model_logistic.predict(X_train)\n",
    "y_pred_test = model_logistic.predict(X_test)\n",
    "\n",
    "\n",
    "\n",
    "print(\"Classification accuracy on training set: \", np.sum(y_pred_train == y_train) / len(y_train))\n",
    "print(\"Classification accuracy on test set: \", np.sum(y_pred_test == y_test) / len(y_test))"
   ]
  },
  {
   "cell_type": "markdown",
   "metadata": {},
   "source": [
    "Not all datapoints are created equal. We can compute the magnetization order parameter for each microstate, which corresponds to the mean bearing of all spins. "
   ]
  },
  {
   "cell_type": "code",
   "execution_count": 138,
   "metadata": {},
   "outputs": [
    {
     "data": {
      "text/plain": [
       "Text(0, 0.5, 'Classification accuracy')"
      ]
     },
     "execution_count": 138,
     "metadata": {},
     "output_type": "execute_result"
    },
    {
     "data": {
      "image/png": "[encoded data removed]",
      "text/plain": [
       "<Figure size 640x480 with 1 Axes>"
      ]
     },
     "metadata": {},
     "output_type": "display_data"
    }
   ],
   "source": [
    "\n",
    "\n",
    "X_all = dataset.X_all.copy()\n",
    "y_all = dataset.labels.copy()\n",
    "\n",
    "\n",
    "## Compute magnetization and sort datapoints by magnetization\n",
    "magnetization = np.mean(X_all, axis=1)\n",
    "sort_inds = np.argsort(magnetization)\n",
    "magnetization = magnetization[sort_inds]\n",
    "X_all = X_all[sort_inds, :]\n",
    "y_all = y_all[sort_inds]\n",
    "\n",
    "## Bin the datapoints by magnetization and compute the classifier accuracy\n",
    "## in each magntization bin\n",
    "bin_width = 1000\n",
    "all_acc = []\n",
    "all_mag = []\n",
    "for i in range(0, len(X_all) - bin_width, bin_width):\n",
    "    X_batch, y_batch = X_all[i:i+bin_width], y_all[i:i+bin_width]\n",
    "\n",
    "    y_pred = model_logistic.predict(X_batch)\n",
    "    acc = np.sum(y_pred == y_batch) / len(y_batch)\n",
    "    all_acc.append(acc)\n",
    "\n",
    "    mag = np.mean(magnetization[i:i+bin_width])\n",
    "    all_mag.append(mag)\n",
    "\n",
    "\n",
    "plt.plot(all_mag, all_acc, '.')\n",
    "plt.xlabel('Microstate magnetization')\n",
    "plt.ylabel('Classification accuracy')"
   ]
  },
  {
   "cell_type": "markdown",
   "metadata": {},
   "source": [
    "### Interpreting the results\n",
    "\n",
    "Due to the physics of the Ising model close to criticality, we expect that predicting the phase of a sample will become much more difficult close to the critical point. We can visually see this by looking at the states in the critical region, (see Fig. above and plot other examples). Notice that it is no longer easy even for a trained human eye to distinguish between the ferromagnetic and the disordered phases close to $T_c$. \n",
    "\n",
    "It is an interesting exercise to compare the training and test accuracies in the ordered and disordered phases to the accuracy of the model near the critical point (i.e. critical states). Recall that the model is not trained on critical states. Notice that the accuracy is about $10\\%$ smaller for the critical states (green curves). "
   ]
  },
  {
   "cell_type": "code",
   "execution_count": null,
   "metadata": {},
   "outputs": [],
   "source": []
  },
  {
   "cell_type": "code",
   "execution_count": null,
   "metadata": {},
   "outputs": [],
   "source": []
  },
  {
   "cell_type": "code",
   "execution_count": null,
   "metadata": {},
   "outputs": [],
   "source": []
  },
  {
   "cell_type": "markdown",
   "metadata": {},
   "source": [
    "## Error scoring for classification\n",
    "\n",
    "+ The mean squared error could work, but for labelling problems where predictions take discrete values, other error functions may be preferable\n",
    "\n",
    "+ An intuitive metric would be the accuracy: $$Acc = \\dfrac{1}{N} \\sum_i^{N} \\mathcal{I}_{y_i, \\hat{y}_i}$$ where $\\mathcal{I}$ denotes the indicator function, which returns $1$ if the prediction $\\hat{y}_i$ equals the true label $y_i$, and zero otherwise. The accuracy is the fraction of microstates that were assigned the correct phase.\n",
    "\n",
    "+ For other classification problems or categorical problems, we might use the cross-entropy loss. This has the benefit of being differentiable, and some methods of training logistic regression models use this as an objective function to optimize. $$\\mathcal{L}(y, \\hat{y}) =\\ -y\\log {\\hat {y}}-(1-y)\\log(1-{\\hat {y}})$$ Notice that this function is zero when $\\hat{y} = y_i$ and one when $\\hat{y} = 1 - y_i$, but it also takes intermediate values in the \"transition\" region of the logistic function. \n",
    "+ + With some algebra, you can actually derive the cross-entropy loss from the logistic regression function, or from the definition of entropy for discrete sets\n",
    "\n",
    "\n",
    "+ Many other metrics exist for classification problems. For example, when classes are extremely imbalanced (ie, we only have a few observations of one phase, but many of another), the accuracy gives a deceptive picture of our method's accuracy. Other metrics to consider include the balanced accuracy, as well as the true positive rate, false positive rate, and confusion matrix"
   ]
  },
  {
   "cell_type": "code",
   "execution_count": 57,
   "metadata": {},
   "outputs": [
    {
     "name": "stdout",
     "output_type": "stream",
     "text": [
      "Accuracy on training set:  0.6921375\n",
      "Cross-entropy on training set:  53809.76985427885 \n",
      "\n",
      "Accuracy on test set:  0.66255\n",
      "Cross-entropy on test set:  932429.2788504167\n"
     ]
    }
   ],
   "source": [
    "def cross_entropy(y, y_pred):\n",
    "    y_pred = np.clip(y_pred, 1e-15, 1 - 1e-15) # clip to avoid log(0)\n",
    "    return -np.sum(y * np.log(y_pred) + (1 - y) * np.log(1 - y_pred))\n",
    "\n",
    "def accuracy(y, y_pred):\n",
    "    return np.sum(y == y_pred) / len(y)\n",
    "\n",
    "print(\"Accuracy on training set: \", accuracy(y_train, model_logistic.predict(X_train)))\n",
    "print(\"Cross-entropy on training set: \", cross_entropy(y_train, model_logistic.predict_proba(X_train)[:, 1]), \"\\n\")\n",
    "\n",
    "print(\"Accuracy on test set: \", accuracy(y_test, y_pred_test))\n",
    "print(\"Cross-entropy on test set: \", cross_entropy(y_test, y_pred_test))"
   ]
  },
  {
   "cell_type": "code",
   "execution_count": 63,
   "metadata": {},
   "outputs": [
    {
     "data": {
      "image/png": "[encoded data removed]",
      "text/plain": [
       "<Figure size 640x480 with 2 Axes>"
      ]
     },
     "metadata": {},
     "output_type": "display_data"
    }
   ],
   "source": [
    "from sklearn import metrics\n",
    "\n",
    "confusion_matrix = metrics.confusion_matrix(y_test, y_pred_test, normalize=\"true\")\n",
    "\n",
    "plt.imshow(confusion_matrix, cmap=plt.cm.Blues, interpolation=\"nearest\")\n",
    "plt.colorbar()\n",
    "tick_marks = np.arange(2)\n",
    "plt.xticks(tick_marks, [\"disordered\", \"ordered\"])\n",
    "plt.yticks(tick_marks, [\"disordered\", \"ordered\"])\n",
    "plt.xlabel(\"Predicted label\")\n",
    "plt.ylabel(\"True label\")\n",
    "plt.title(\"Confusion matrix\")\n",
    "plt.show()"
   ]
  },
  {
   "cell_type": "markdown",
   "metadata": {},
   "source": [
    "## Accuracy is a deceptive metric\n",
    "\n",
    "+ COVID in 2020 claimed 98% accuracy predicing whether a patient had COVID or not based on CT scans of lung tissue\n",
    "+ + This was a result of the fact that the dataset was imbalanced: 98% of the patients did not have COVID\n",
    "\n",
    "\n"
   ]
  },
  {
   "cell_type": "markdown",
   "metadata": {},
   "source": [
    "+ Several quantities to know for binary classification problems:\n",
    "+ + True positive rate (TPR): $\\dfrac{TP}{TP + FN}$\n",
    "+ + False positive rate (FPR): $\\dfrac{FP}{FP + TN}$\n",
    "+ + True negative rate (TNR): $\\dfrac{TN}{TN + FP}$\n",
    "+ + False negative rate (FNR): $\\dfrac{FN}{FN + TP}$\n",
    "\n",
    "+ + These are also known as the sensitivity, specificity, and precision, respectively\n",
    "\n",
    "#### The confusion matrix visualizes these quantities pictorally\n",
    "\n",
    "+ + Precision is the fraction of positive predictions that are correct: $\\dfrac{TP}{TP + FP}$\n",
    "+ + Recall is the fraction of positive samples that are correctly predicted: $\\dfrac{TP}{TP + FN}$\n",
    "\n",
    "\n"
   ]
  },
  {
   "cell_type": "markdown",
   "metadata": {},
   "source": [
    "\n",
    "\n",
    "+ Composite scores account for imbalance in training data\n",
    "+ + Balanced accuracy: $\\dfrac{1}{2} \\left( \\dfrac{TP}{TP + FN} + \\dfrac{TN}{TN + FP} \\right)$\n",
    "\n",
    "+ + F1 score: $\\dfrac{2}{\\dfrac{1}{TPR} + \\dfrac{1}{precision}}$"
   ]
  },
  {
   "cell_type": "code",
   "execution_count": null,
   "metadata": {},
   "outputs": [],
   "source": []
  },
  {
   "cell_type": "code",
   "execution_count": null,
   "metadata": {},
   "outputs": [],
   "source": []
  },
  {
   "cell_type": "code",
   "execution_count": null,
   "metadata": {},
   "outputs": [],
   "source": []
  },
  {
   "cell_type": "code",
   "execution_count": null,
   "metadata": {},
   "outputs": [],
   "source": []
  },
  {
   "cell_type": "markdown",
   "metadata": {},
   "source": [
    "## Bootstrapping\n",
    "\n",
    "+ What if we want to assign error ranges to our predictions? \n",
    "+ Many parametric models have well-defined error properties. For example, if we fit a Gaussian to a point cloud, we can read off the uncertainty of the centroi because the variance is actually a fitting parameter\n",
    "+ We have explicit equations describing linear and logistic regression; we can imagine propagating uncertainties in the inputs directly through the model\n",
    "+ For a black-box or very complex model where we only have the ability to compute input/output pairs, we need to do something more creative.\n",
    "+ Bootstrapping: randomly subsample the input data *with replacement*, and generate new predictions. \n",
    "+ + Why replacement? For finite datasets, we treat the dataset as an empirical approximation of the data population itself. We therefore want to approximate sampling the original population, while reducing dependence on the specificities of our original distribution. For example, resampling helps us avoid outliers.\n",
    "+ + Compared to full error propagation, bootstrapping is usually computationally expensive but conceptually simple. Extremely useful for non-differentiable models, small training datasts, or unusual feature distributions"
   ]
  },
  {
   "cell_type": "code",
   "execution_count": 71,
   "metadata": {},
   "outputs": [
    {
     "name": "stdout",
     "output_type": "stream",
     "text": [
      "Bootstrap 0/100\n",
      "Bootstrap 10/100\n",
      "Bootstrap 20/100\n",
      "Bootstrap 30/100\n",
      "Bootstrap 40/100\n",
      "Bootstrap 50/100\n",
      "Bootstrap 60/100\n",
      "Bootstrap 70/100\n",
      "Bootstrap 80/100\n",
      "Bootstrap 90/100\n"
     ]
    }
   ],
   "source": [
    "def bootstrap(model, X, y, n=100, verbose=False):\n",
    "    \"\"\"Bootstrap the data and fit the model n times.\n",
    "    \n",
    "    Args:\n",
    "        model (sklearn model): model to fit\n",
    "        X (np.array): dataset to fit\n",
    "        y (np.array): labels to fit\n",
    "        n (int): number of bootstraps\n",
    "        verbose (bool): print progress\n",
    "\n",
    "    Returns:\n",
    "        accs (np.array): array of accuracies\n",
    "        cens (np.array): array of cross-entropies\n",
    "    \"\"\"\n",
    "    accs, cens = np.zeros(n), np.zeros(n)\n",
    "    for i in range(n):\n",
    "        if verbose and i % (n // 10) == 0:\n",
    "            print(f\"Bootstrap {i}/{n}\", flush=True)\n",
    "        X_train, X_test, y_train, y_test = train_test_split(X, y, train_size=0.5)\n",
    "        model.fit(X_train, y_train)\n",
    "        y_pred_test = model.predict(X_test)\n",
    "        accs[i] = accuracy(y_test, y_pred_test)\n",
    "        cens[i] = cross_entropy(y_test, y_pred_test)\n",
    "    return accs, cens\n",
    "\n",
    "accs, cens = bootstrap(model_logistic, dataset.X_all, dataset.labels, verbose=True)"
   ]
  },
  {
   "cell_type": "code",
   "execution_count": 75,
   "metadata": {},
   "outputs": [
    {
     "name": "stdout",
     "output_type": "stream",
     "text": [
      "Mean accuracy:  0.6620831250000001 +/- 0.0020337168674313994 %\n",
      "Mean cross-entropy:  933719.2551564255 +/- 5619.530573584612\n"
     ]
    },
    {
     "data": {
      "image/png": "[encoded data removed]",
      "text/plain": [
       "<Figure size 640x480 with 1 Axes>"
      ]
     },
     "metadata": {},
     "output_type": "display_data"
    },
    {
     "data": {
      "image/png": "[encoded data removed]",
      "text/plain": [
       "<Figure size 640x480 with 1 Axes>"
      ]
     },
     "metadata": {},
     "output_type": "display_data"
    }
   ],
   "source": [
    "print(\"Mean accuracy: \", np.mean(accs), \"+/-\", np.std(accs), \"%\")\n",
    "print(\"Mean cross-entropy: \", np.mean(cens), \"+/-\", np.std(cens))\n",
    "\n",
    "plt.hist(accs, bins=20)\n",
    "plt.xlabel(\"Accuracy\")\n",
    "plt.ylabel(\"Frequency\")\n",
    "plt.title(\"Accuracy distribution\")\n",
    "plt.show()\n",
    "\n",
    "plt.hist(cens, bins=20)\n",
    "plt.xlabel(\"Cross-entropy\")\n",
    "plt.ylabel(\"Frequency\")\n",
    "plt.title(\"Cross-entropy distribution\")\n",
    "plt.show()\n"
   ]
  },
  {
   "cell_type": "code",
   "execution_count": null,
   "metadata": {},
   "outputs": [],
   "source": []
  },
  {
   "cell_type": "markdown",
   "metadata": {},
   "source": [
    "## Choices of optimizers and cost function\n",
    "\n",
    "+ The cross-entropy is a natural cost function used for training a logistic regression model. Minimizing it requires the use of numerical toolboxes. Here, we compare the performance of two different optimization routines: `liblinear` [the default one for scikit's logistic regression], and stochastic gradient descent (SGD) [see Sec. IV of the review for more details].\n",
    "\n",
    "+ As we saw with linear regression, we can use regularizers to modify the optimization problem.\n",
    "\n",
    "+ Well-trained models do not overfit the data, which is reflected in an almost equal performance on the training and test data sets (recall that the test set consists of samples which the model has not been trained on). "
   ]
  },
  {
   "cell_type": "code",
   "execution_count": 52,
   "metadata": {},
   "outputs": [
    {
     "name": "stdout",
     "output_type": "stream",
     "text": [
      "accuracy: train, test, critical\n",
      "liblin: 0.6922, 0.6625\n",
      "SGD: 0.4916, 0.4794\n",
      "finished computing 1/11 iterations\n",
      "accuracy: train, test, critical\n",
      "liblin: 0.6922, 0.6625\n",
      "SGD: 0.4849, 0.4682\n",
      "finished computing 2/11 iterations\n",
      "accuracy: train, test, critical\n",
      "liblin: 0.6922, 0.6625\n",
      "SGD: 0.7029, 0.6728\n",
      "finished computing 3/11 iterations\n",
      "accuracy: train, test, critical\n",
      "liblin: 0.6922, 0.6625\n",
      "SGD: 0.6785, 0.6498\n",
      "finished computing 4/11 iterations\n",
      "accuracy: train, test, critical\n",
      "liblin: 0.6922, 0.6625\n",
      "SGD: 0.6215, 0.6028\n",
      "finished computing 5/11 iterations\n",
      "accuracy: train, test, critical\n",
      "liblin: 0.6922, 0.6625\n",
      "SGD: 0.5633, 0.5617\n",
      "finished computing 6/11 iterations\n",
      "accuracy: train, test, critical\n",
      "liblin: 0.6921, 0.6625\n",
      "SGD: 0.5633, 0.5617\n",
      "finished computing 7/11 iterations\n",
      "accuracy: train, test, critical\n",
      "liblin: 0.6918, 0.6621\n",
      "SGD: 0.5633, 0.5617\n",
      "finished computing 8/11 iterations\n",
      "accuracy: train, test, critical\n",
      "liblin: 0.6853, 0.6570\n",
      "SGD: 0.5633, 0.5617\n",
      "finished computing 9/11 iterations\n",
      "accuracy: train, test, critical\n",
      "liblin: 0.6560, 0.6330\n",
      "SGD: 0.5633, 0.5617\n",
      "finished computing 10/11 iterations\n",
      "accuracy: train, test, critical\n",
      "liblin: 0.6391, 0.6205\n",
      "SGD: 0.5633, 0.5617\n",
      "finished computing 11/11 iterations\n"
     ]
    },
    {
     "data": {
      "image/png": "[encoded data removed]",
      "text/plain": [
       "<Figure size 640x480 with 1 Axes>"
      ]
     },
     "metadata": {},
     "output_type": "display_data"
    }
   ],
   "source": [
    "###### apply logistic regression\n",
    "from sklearn import linear_model\n",
    "\n",
    "# define regularisation parameter\n",
    "lmbdas = np.logspace(-5, 5, 11)\n",
    "\n",
    "# preallocate data\n",
    "train_accuracy = np.zeros(lmbdas.shape, np.float64)\n",
    "test_accuracy = np.zeros(lmbdas.shape, np.float64)\n",
    "critical_accuracy = np.zeros(lmbdas.shape, np.float64)\n",
    "\n",
    "train_accuracy_SGD = np.zeros(lmbdas.shape, np.float64)\n",
    "test_accuracy_SGD = np.zeros(lmbdas.shape, np.float64)\n",
    "critical_accuracy_SGD = np.zeros(lmbdas.shape, np.float64)\n",
    "\n",
    "# loop over regularisation strength\n",
    "for i, lmbda in enumerate(lmbdas):\n",
    "\n",
    "    # define logistic regressor\n",
    "    logreg = linear_model.LogisticRegression(\n",
    "        C=1.0 / lmbda,\n",
    "        random_state=1,\n",
    "        verbose=0,\n",
    "        max_iter=1e3,\n",
    "        tol=1e-5,\n",
    "        solver=\"liblinear\",\n",
    "    )\n",
    "\n",
    "    # fit training data\n",
    "    logreg.fit(X_train, y_train)\n",
    "\n",
    "    # check accuracy\n",
    "    train_accuracy[i] = logreg.score(X_train, y_train)\n",
    "    test_accuracy[i] = logreg.score(X_test, y_test)\n",
    "    # critical_accuracy[i] = logreg.score(X_critical, y_critical)\n",
    "\n",
    "    print(\"accuracy: train, test, critical\")\n",
    "    print(\n",
    "        \"liblin: %0.4f, %0.4f\"\n",
    "        % (train_accuracy[i], test_accuracy[i])\n",
    "    )\n",
    "\n",
    "    # define SGD-based logistic regression\n",
    "    logreg_SGD = linear_model.SGDClassifier(\n",
    "        loss=\"log\",\n",
    "        penalty=\"l2\",\n",
    "        alpha=lmbda,\n",
    "        max_iter=100,\n",
    "        shuffle=True,\n",
    "        random_state=1,\n",
    "        learning_rate=\"optimal\",\n",
    "    )\n",
    "\n",
    "    # fit training data\n",
    "    logreg_SGD.fit(X_train, y_train)\n",
    "\n",
    "    # check accuracy\n",
    "    train_accuracy_SGD[i] = logreg_SGD.score(X_train, y_train)\n",
    "    test_accuracy_SGD[i] = logreg_SGD.score(X_test, y_test)\n",
    "    # critical_accuracy_SGD[i] = logreg_SGD.score(X_critical, Y_critical)\n",
    "\n",
    "    print(\n",
    "        \"SGD: %0.4f, %0.4f\"\n",
    "        % (train_accuracy_SGD[i], test_accuracy_SGD[i])\n",
    "    )\n",
    "\n",
    "    print(\"finished computing %i/11 iterations\" % (i + 1))\n",
    "\n",
    "# plot accuracy against regularisation strength\n",
    "plt.semilogx(lmbdas, train_accuracy, \"*-b\", label=\"liblinear train\")\n",
    "plt.semilogx(lmbdas, test_accuracy, \"*-r\", label=\"liblinear test\")\n",
    "# plt.semilogx(lmbdas, critical_accuracy, \"*-g\", label=\"liblinear critical\")\n",
    "\n",
    "plt.semilogx(lmbdas, train_accuracy_SGD, \"*--b\", label=\"SGD train\")\n",
    "plt.semilogx(lmbdas, test_accuracy_SGD, \"*--r\", label=\"SGD test\")\n",
    "# plt.semilogx(lmbdas, critical_accuracy_SGD, \"*--g\", label=\"SGD critical\")\n",
    "\n",
    "plt.xlabel(\"$\\\\lambda$\")\n",
    "plt.ylabel(\"$\\\\mathrm{accuracy}$\")\n",
    "\n",
    "plt.grid()\n",
    "plt.legend()\n",
    "\n",
    "\n",
    "plt.show()\n"
   ]
  },
  {
   "cell_type": "markdown",
   "metadata": {
    "collapsed": true
   },
   "source": [
    "## Interpreting the results\n",
    "\n",
    "+ From the figure above, we can read off the relative degree of overfitting. This information is contained in the difference in accuracy of our model on the training (blue) and test (red) datasets. Notice that the accuracy difference between test and training sets is significant but not unreasonable, within $10\\%$. Interestingly, which optimizer performs better depends on the value of the regularization strength. Moreover, similar to the Linear Regression examples, we find that there exists a sweet spot for the regularization strength $\\lambda$ that results in optimal performance of the logistic regressor, at about $\\lambda\\sim 10^{-1}$.\n",
    "\n"
   ]
  },
  {
   "cell_type": "code",
   "execution_count": null,
   "metadata": {},
   "outputs": [],
   "source": []
  },
  {
   "cell_type": "code",
   "execution_count": null,
   "metadata": {},
   "outputs": [],
   "source": []
  },
  {
   "cell_type": "code",
   "execution_count": null,
   "metadata": {},
   "outputs": [],
   "source": []
  },
  {
   "cell_type": "code",
   "execution_count": null,
   "metadata": {},
   "outputs": [],
   "source": []
  },
  {
   "cell_type": "code",
   "execution_count": null,
   "metadata": {},
   "outputs": [],
   "source": []
  },
  {
   "cell_type": "code",
   "execution_count": null,
   "metadata": {},
   "outputs": [],
   "source": []
  },
  {
   "cell_type": "code",
   "execution_count": null,
   "metadata": {},
   "outputs": [],
   "source": []
  },
  {
   "cell_type": "code",
   "execution_count": null,
   "metadata": {},
   "outputs": [],
   "source": []
  },
  {
   "cell_type": "code",
   "execution_count": null,
   "metadata": {},
   "outputs": [],
   "source": []
  },
  {
   "cell_type": "code",
   "execution_count": null,
   "metadata": {},
   "outputs": [],
   "source": []
  },
  {
   "cell_type": "code",
   "execution_count": null,
   "metadata": {},
   "outputs": [],
   "source": []
  },
  {
   "cell_type": "code",
   "execution_count": null,
   "metadata": {},
   "outputs": [],
   "source": []
  }
 ],
 "metadata": {
  "anaconda-cloud": {},
  "kernelspec": {
   "display_name": "Python 3.10.4 ('cphy')",
   "language": "python",
   "name": "python3"
  },
  "language_info": {
   "codemirror_mode": {
    "name": "ipython",
    "version": 3
   },
   "file_extension": ".py",
   "mimetype": "text/x-python",
   "name": "python",
   "nbconvert_exporter": "python",
   "pygments_lexer": "ipython3",
   "version": "3.10.4"
  },
  "vscode": {
   "interpreter": {
    "hash": "0e972983abb2b5c6293c34082f6ff1f6e60e8afbd2a068e0026ccecbb212fdb6"
   }
  }
 },
 "nbformat": 4,
 "nbformat_minor": 1
}
