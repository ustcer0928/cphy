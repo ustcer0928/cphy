{
 "cells": [
  {
   "cell_type": "markdown",
   "metadata": {},
   "source": [
    "# Phases of the Ising Model with Logistic Regression\n",
    "\n",
    "This notebook is modified notebooks originally developed in [Pankaj Mehta's ML for physics course](http://physics.bu.edu/~pankajm/PY580.html), although I've added some modification based on [Volodymyr Kuleshov's applied ML course](https://github.com/kuleshov/cornell-cs5785-2022-applied-ml)\n"
   ]
  },
  {
   "cell_type": "markdown",
   "metadata": {},
   "source": [
    "#### Preamble"
   ]
  },
  {
   "cell_type": "code",
   "execution_count": 1,
   "metadata": {},
   "outputs": [],
   "source": [
    "## Preamble / required packages\n",
    "import numpy as np\n",
    "np.random.seed(0)\n",
    "\n",
    "# Import local plotting functions and in-notebook display functions\n",
    "import matplotlib.pyplot as plt\n",
    "from IPython.display import Image, display\n",
    "%matplotlib inline\n",
    "\n",
    "import warnings\n",
    "# Comment this out to activate warnings\n",
    "warnings.filterwarnings('ignore')\n"
   ]
  },
  {
   "cell_type": "markdown",
   "metadata": {},
   "source": [
    "## Learning Goal\n",
    "The goal of this notebook is to show how one can employ Logistic Regression to classify the states of the 2D Ising model according to their phase. We will discuss overfitting, regularization, and learn how to use the scikit-learn library. We will also examine the role of the optimizer in making predictions.\n",
    "\n",
    "Recall that the energy function of the classical Ising model is given by the Hamiltonian\n",
    "\n",
    "$$ H = -J\\sum_{\\langle ij\\rangle}S_{i}S_j,\\qquad \\qquad S_j\\in\\{\\pm 1\\} $$\n",
    "\n",
    "where the lattice site indices $i,j$ run over all nearest neighbors of a 2D square lattice, and $J$ is some arbitrary interaction energy scale. We adopt periodic boundary conditions. In two dimensions, Onsager proved that this model undergoes a thermal phase transition in the thermodynamic limit from an ordered ferromagnet with all spins aligned to a disordered phase at the critical temperature $T_c/J=2/\\log(1+\\sqrt{2})\\approx 2.26$. For any finite system size, this critical point is expanded to a critical region around $T_c$.\n",
    "\n"
   ]
  },
  {
   "cell_type": "markdown",
   "metadata": {},
   "source": [
    "# Perform an experiment and record observations\n",
    "\n",
    "+ For the Ising model, we saw that linear regression was the best choice of machine learning methods, because it effectively finds the coupling matrix $J$ for a Hamiltonian\n",
    "+ Most of the time, our machine learning model only approximates the generator, which usually has a functional form that defies an exact representation using the ML model\n",
    "+ Here, we will again use the Ising model as our experiment. However, instead of regressing energies based on microstates, we instead will ask a bigger question: can we predict the phase of the system based on only the microstate? \n",
    "+ If we can successfully perform this operation, then we've essentially learned a computational surrogate for our experiments, which might be expensive to perform individually. The surrogates could be used to find critical points, for example.\n",
    "\n",
    "## The Ising model\n",
    "\n",
    "Given an Ising state, we would like to classify whether it belongs to the ordered or the disordered phase, without any additional information other than the spin configuration itself. This categorical machine learning problem is well suited for logistic regression. Notice that, for the purposes of applying logistic regression, the 2D spin state of the Ising model will be flattened out to a 1D array, so it will not be easy to learn information about the structure of the contiguous ordered 2D domains [see figure below]. Such information can be incorporated using other methods such as multi-layer deep convolutional neural networks (CNNs), see Secs. IX, X and XI of the review and the corresponding notebooks.\n",
    "\n",
    "## The 2D Ising Dataset\n",
    "\n",
    "To this end, we consider the 2D Ising model on a $40\\times 40$ square lattice, and use Monte-Carlo (MC) sampling to prepare $10^4$ states at every fixed temperature $T$ out of a pre-defined set $T\\in[0.25,0.5,\\cdots,4.0]$. Using Onsager's criterion, we can assign a label to each state according to its phase: $0$ if the state is disordered, and $1$ if it is ordered. Our goal is to predict the phase of a sample given the spin configuration.\n",
    "\n",
    "It is well-known that, near the critical temperature $T_c$, the ferromagnetic correlation length diverges which, among other things, leads to a critical slowing down of the MC algorithm. Therefore, we expect identifying the phases to be harder in the critical region. With this in mind, consider the following three types of states: ordered ($T/J<2.0$), critical ($2.0\\leq T/J\\leq 2.5)$ and disordered ($T/J>2.5$). We use both ordered and disordered states to train the logistic regressor and once the supervised training procedure is complete, we evaluate the performance of our classification model on unseen ordered, disordered and critical states. "
   ]
  },
  {
   "cell_type": "code",
   "execution_count": null,
   "metadata": {},
   "outputs": [],
   "source": []
  },
  {
   "cell_type": "code",
   "execution_count": null,
   "metadata": {},
   "outputs": [],
   "source": []
  },
  {
   "cell_type": "code",
   "execution_count": null,
   "metadata": {},
   "outputs": [],
   "source": []
  },
  {
   "cell_type": "markdown",
   "metadata": {},
   "source": [
    "# Load the Ising dataset\n",
    "We now load in the data which is hosted on Pankaj Mehta's [website](http://physics.bu.edu/~pankajm/MLnotebooks.html)."
   ]
  },
  {
   "cell_type": "code",
   "execution_count": 14,
   "metadata": {},
   "outputs": [],
   "source": [
    "import pickle, os\n",
    "from urllib.request import urlopen\n",
    "\n",
    "# url to data\n",
    "url_main = \"https://physics.bu.edu/~pankajm/ML-Review-Datasets/isingMC/\"\n",
    "\n",
    "######### LOAD DATA\n",
    "# The data consists of 16*10000 samples taken in T=np.arange(0.25,4.0001,0.25):\n",
    "data_file_name = \"Ising2DFM_reSample_L40_T=All.pkl\"\n",
    "# The labels are obtained from the following file:\n",
    "label_file_name = \"Ising2DFM_reSample_L40_T=All_labels.pkl\"\n",
    "\n",
    "\n",
    "# DATA\n",
    "data = pickle.load(\n",
    "    urlopen(url_main + data_file_name)\n",
    ")  # pickle reads the file and returns the Python object (1D array, compressed bits)\n",
    "data = np.unpackbits(data).reshape(\n",
    "    -1, 1600\n",
    ")  # Decompress array and reshape for convenience\n",
    "data = data.astype(\"int\")\n",
    "data[\n",
    "    np.where(data == 0)\n",
    "] = -1  # map 0 state to -1 (Ising variable can take values +/-1)\n",
    "\n",
    "# LABELS (convention is 1 for ordered states and 0 for disordered states)\n",
    "labels = pickle.load(\n",
    "    urlopen(url_main + label_file_name)\n",
    ")  # pickle reads the file and returns the Python object (here just a 1D array with the binary labels)\n",
    "\n",
    "\n",
    "\n",
    "# Ising model parameters\n",
    "L = 40  # linear system size\n",
    "J = -1.0  # Ising interaction\n",
    "T = np.linspace(0.25, 4.0, 16)  # set of temperatures\n",
    "T_c = 2.26  # Onsager critical temperature in the TD limit\n"
   ]
  },
  {
   "cell_type": "markdown",
   "metadata": {},
   "source": [
    "# Constructing the training and the test sets"
   ]
  },
  {
   "cell_type": "code",
   "execution_count": 15,
   "metadata": {},
   "outputs": [
    {
     "ename": "NameError",
     "evalue": "name 'y_critical' is not defined",
     "output_type": "error",
     "traceback": [
      "\u001b[0;31m---------------------------------------------------------------------------\u001b[0m",
      "\u001b[0;31mNameError\u001b[0m                                 Traceback (most recent call last)",
      "\u001b[1;32m/Users/william/program_repos/cphy/talks/logistic_regression_phases.ipynb Cell 12\u001b[0m in \u001b[0;36m<cell line: 31>\u001b[0;34m()\u001b[0m\n\u001b[1;32m     <a href='vscode-notebook-cell:/Users/william/program_repos/cphy/talks/logistic_regression_phases.ipynb#X10sZmlsZQ%3D%3D?line=28'>29</a>\u001b[0m \u001b[39m# full data set\u001b[39;00m\n\u001b[1;32m     <a href='vscode-notebook-cell:/Users/william/program_repos/cphy/talks/logistic_regression_phases.ipynb#X10sZmlsZQ%3D%3D?line=29'>30</a>\u001b[0m X \u001b[39m=\u001b[39m np\u001b[39m.\u001b[39mconcatenate((X_critical, X))\n\u001b[0;32m---> <a href='vscode-notebook-cell:/Users/william/program_repos/cphy/talks/logistic_regression_phases.ipynb#X10sZmlsZQ%3D%3D?line=30'>31</a>\u001b[0m y \u001b[39m=\u001b[39m np\u001b[39m.\u001b[39mconcatenate((y_critical, Y))\n\u001b[1;32m     <a href='vscode-notebook-cell:/Users/william/program_repos/cphy/talks/logistic_regression_phases.ipynb#X10sZmlsZQ%3D%3D?line=32'>33</a>\u001b[0m \u001b[39mprint\u001b[39m(\u001b[39m\"\u001b[39m\u001b[39mX_train shape:\u001b[39m\u001b[39m\"\u001b[39m, X_train\u001b[39m.\u001b[39mshape)\n\u001b[1;32m     <a href='vscode-notebook-cell:/Users/william/program_repos/cphy/talks/logistic_regression_phases.ipynb#X10sZmlsZQ%3D%3D?line=33'>34</a>\u001b[0m \u001b[39mprint\u001b[39m(\u001b[39m\"\u001b[39m\u001b[39mY_train shape:\u001b[39m\u001b[39m\"\u001b[39m, y_train\u001b[39m.\u001b[39mshape)\n",
      "\u001b[0;31mNameError\u001b[0m: name 'y_critical' is not defined"
     ]
    }
   ],
   "source": [
    "from sklearn.model_selection import train_test_split\n",
    "\n",
    "###### define ML parameters\n",
    "num_classes = 2\n",
    "train_to_test_ratio = 0.5  # training samples\n",
    "\n",
    "# divide the loaded data into ordered, critical and disordered\n",
    "X_ordered = data[:70000, :]\n",
    "Y_ordered = labels[:70000]\n",
    "\n",
    "X_critical = data[70000:100000, :]\n",
    "Y_critical = labels[70000:100000]\n",
    "\n",
    "X_disordered = data[100000:, :]\n",
    "Y_disordered = labels[100000:]\n",
    "\n",
    "del data, labels\n",
    "\n",
    "# define training and test data sets\n",
    "X = np.concatenate((X_ordered, X_disordered))\n",
    "Y = np.concatenate((Y_ordered, Y_disordered))\n",
    "\n",
    "# pick random data points from ordered and disordered states\n",
    "# to create the training and test sets\n",
    "X_train, X_test, y_train, y_test = train_test_split(\n",
    "    X, Y, train_size=train_to_test_ratio, test_size=1.0 - train_to_test_ratio\n",
    ")\n",
    "\n",
    "# full data set\n",
    "X = np.concatenate((X_critical, X))\n",
    "y = np.concatenate((y_critical, Y))\n",
    "\n",
    "print(\"X_train shape:\", X_train.shape)\n",
    "print(\"Y_train shape:\", y_train.shape)\n",
    "print(\"\\n\")\n",
    "print(X_train.shape[0], \"train samples\")\n",
    "print(X_critical.shape[0], \"critical samples\")\n",
    "print(X_test.shape[0], \"test samples\")\n"
   ]
  },
  {
   "cell_type": "markdown",
   "metadata": {},
   "source": [
    "# Visualizing the states"
   ]
  },
  {
   "cell_type": "code",
   "execution_count": 10,
   "metadata": {},
   "outputs": [
    {
     "data": {
      "image/png": "[encoded data removed]",
      "text/plain": [
       "<Figure size 640x480 with 3 Axes>"
      ]
     },
     "metadata": {},
     "output_type": "display_data"
    }
   ],
   "source": [
    "##### plot a few Ising states\n",
    "%matplotlib inline\n",
    "import matplotlib.pyplot as plt\n",
    "from mpl_toolkits.axes_grid1 import make_axes_locatable\n",
    "\n",
    "\n",
    "# plot states\n",
    "fig, axarr = plt.subplots(nrows=1, ncols=3)\n",
    "\n",
    "axarr[0].imshow(X_ordered[20001].reshape(L,L))\n",
    "axarr[0].set_title('$\\\\mathrm{ordered\\\\ phase}$',fontsize=16)\n",
    "axarr[0].tick_params(labelsize=16)\n",
    "\n",
    "axarr[1].imshow(X_critical[10001].reshape(L,L))\n",
    "axarr[1].set_title('$\\\\mathrm{critical\\\\ region}$',fontsize=16)\n",
    "axarr[1].tick_params(labelsize=16)\n",
    "\n",
    "im = axarr[2].imshow(X_disordered[50001].reshape(L,L))\n",
    "axarr[2].set_title('$\\\\mathrm{disordered\\\\ phase}$',fontsize=16)\n",
    "axarr[2].tick_params(labelsize=16)\n",
    "\n",
    "fig.subplots_adjust(right=2.0)\n",
    "\n",
    "plt.show()"
   ]
  },
  {
   "cell_type": "markdown",
   "metadata": {},
   "source": [
    "## Logistic regression\n",
    "\n",
    "+ Earlier, we used linear regression to fit the energy of the Ising model given observations of the spin configuration\n",
    "+ \n",
    "\n"
   ]
  },
  {
   "cell_type": "code",
   "execution_count": 12,
   "metadata": {},
   "outputs": [
    {
     "ename": "NameError",
     "evalue": "name 'y_test' is not defined",
     "output_type": "error",
     "traceback": [
      "\u001b[0;31m---------------------------------------------------------------------------\u001b[0m",
      "\u001b[0;31mNameError\u001b[0m                                 Traceback (most recent call last)",
      "\u001b[1;32m/Users/william/program_repos/cphy/talks/logistic_regression_phases.ipynb Cell 16\u001b[0m in \u001b[0;36m<cell line: 12>\u001b[0;34m()\u001b[0m\n\u001b[1;32m      <a href='vscode-notebook-cell:/Users/william/program_repos/cphy/talks/logistic_regression_phases.ipynb#X34sZmlsZQ%3D%3D?line=7'>8</a>\u001b[0m y_pred_test \u001b[39m=\u001b[39m model_logistic\u001b[39m.\u001b[39mpredict(X_test)\n\u001b[1;32m     <a href='vscode-notebook-cell:/Users/william/program_repos/cphy/talks/logistic_regression_phases.ipynb#X34sZmlsZQ%3D%3D?line=9'>10</a>\u001b[0m plt\u001b[39m.\u001b[39mfigure()\n\u001b[0;32m---> <a href='vscode-notebook-cell:/Users/william/program_repos/cphy/talks/logistic_regression_phases.ipynb#X34sZmlsZQ%3D%3D?line=11'>12</a>\u001b[0m plt\u001b[39m.\u001b[39mplot(y_test, y_pred_test, \u001b[39m'\u001b[39m\u001b[39m.\u001b[39m\u001b[39m'\u001b[39m, color\u001b[39m=\u001b[39m\u001b[39m'\u001b[39m\u001b[39mblack\u001b[39m\u001b[39m'\u001b[39m)\n",
      "\u001b[0;31mNameError\u001b[0m: name 'y_test' is not defined"
     ]
    },
    {
     "data": {
      "text/plain": [
       "<Figure size 640x480 with 0 Axes>"
      ]
     },
     "metadata": {},
     "output_type": "display_data"
    }
   ],
   "source": [
    "###### Apply logistic regression\n",
    "from sklearn import linear_model\n",
    "\n",
    "model_logistic = linear_model.LogisticRegression()\n",
    "\n",
    "model_logistic.fit(X_train, Y_train)\n",
    "\n",
    "y_pred_test = model_logistic.predict(X_test)\n",
    "\n",
    "plt.figure()\n",
    "\n",
    "plt.plot(y_test, y_pred_test, '.', color='black')\n",
    "\n",
    "\n"
   ]
  },
  {
   "cell_type": "code",
   "execution_count": null,
   "metadata": {},
   "outputs": [],
   "source": []
  },
  {
   "cell_type": "markdown",
   "metadata": {},
   "source": [
    "## Bootstrapping\n",
    "\n",
    "+ What if we want to assign error ranges to our predictions? \n",
    "+ Many parametric models have well-defined error properties. For example, if we fit a Gaussian to a point cloud, we can read off the predicted variance because it's essentially a fitting parameter\n",
    "+ We have explicit equations describing linear and logistic regression; we can imagine propagating uncertainties in the inputs directly through the model\n",
    "\n",
    "+ For a black-box or very complex model where we only have the ability to feed inputs, we need to do something more creative.\n",
    "+ Bootstrapping: randomly subsample the input data *with replacement*, and generate new predictions"
   ]
  },
  {
   "cell_type": "code",
   "execution_count": null,
   "metadata": {},
   "outputs": [],
   "source": []
  },
  {
   "cell_type": "markdown",
   "metadata": {},
   "source": [
    "## Cost function, optimizers, regularizers, and performance metrics\n",
    "\n",
    "In Sec. VII of the review, we have shown that the cross-entropy is a natural cost function used for training a logistic regressor. As we already mentioned, minimizing it requires the use of numerical toolboxes. Here, we compare the performance of two different optimization routines: a `liblinear` [the default one for scikit's logistic regression], and stochastic gradient descent (SGD) [see Sec. IV of the review for more details].\n",
    "\n",
    "It is important to note that all these methods have built-in regularizers. Indeed, we did not discuss the role of the regularisor explicitly in the context of Logistic Regression extensively, yet this concept is crucial in order to prevent overfitting, and we encourage the interested reader to play with the different regularization types and regularization strengths and compare model performances. \n",
    "\n",
    "Below, we define the accuracy of a classification model on a given data set as the percentage of correctly classified data points. Comparing the accuracy on the training and test data, we obtain a good estimate of the degree of overfitting. Well-trained models do not overfit the data, which is reflected in an almost equal performance on the training and test data sets [recall that the test set consists of samples which the model has not been trained on]. "
   ]
  },
  {
   "cell_type": "markdown",
   "metadata": {},
   "source": [
    "# Run the cell below (this may take several minutes)"
   ]
  },
  {
   "cell_type": "code",
   "execution_count": 5,
   "metadata": {},
   "outputs": [
    {
     "name": "stdout",
     "output_type": "stream",
     "text": [
      "accuracy: train, test, critical\n",
      "liblin: 0.7273, 0.6924, 0.6228\n",
      "SGD: 0.4849, 0.4691, 0.5056\n",
      "finished computing 1/11 iterations\n",
      "accuracy: train, test, critical\n",
      "liblin: 0.7273, 0.6924, 0.6228\n",
      "SGD: 0.4992, 0.4781, 0.4980\n",
      "finished computing 2/11 iterations\n",
      "accuracy: train, test, critical\n",
      "liblin: 0.7273, 0.6924, 0.6228\n",
      "SGD: 0.4784, 0.4430, 0.5044\n",
      "finished computing 3/11 iterations\n",
      "accuracy: train, test, critical\n",
      "liblin: 0.7273, 0.6924, 0.6228\n",
      "SGD: 0.7216, 0.6872, 0.6318\n",
      "finished computing 4/11 iterations\n",
      "accuracy: train, test, critical\n",
      "liblin: 0.7273, 0.6924, 0.6228\n",
      "SGD: 0.6758, 0.6474, 0.6767\n",
      "finished computing 5/11 iterations\n",
      "accuracy: train, test, critical\n",
      "liblin: 0.7273, 0.6924, 0.6228\n",
      "SGD: 0.5464, 0.5437, 0.6716\n",
      "finished computing 6/11 iterations\n",
      "accuracy: train, test, critical\n",
      "liblin: 0.7272, 0.6924, 0.6232\n",
      "SGD: 0.4616, 0.4614, 0.3333\n",
      "finished computing 7/11 iterations\n",
      "accuracy: train, test, critical\n",
      "liblin: 0.7266, 0.6917, 0.6245\n",
      "SGD: 0.4616, 0.4614, 0.3333\n",
      "finished computing 8/11 iterations\n",
      "accuracy: train, test, critical\n",
      "liblin: 0.7228, 0.6879, 0.6331\n",
      "SGD: 0.4616, 0.4614, 0.3333\n",
      "finished computing 9/11 iterations\n",
      "accuracy: train, test, critical\n",
      "liblin: 0.7031, 0.6711, 0.6610\n",
      "SGD: 0.4616, 0.4614, 0.3333\n",
      "finished computing 10/11 iterations\n",
      "accuracy: train, test, critical\n",
      "liblin: 0.6949, 0.6669, 0.6611\n",
      "SGD: 0.4616, 0.4614, 0.3333\n",
      "finished computing 11/11 iterations\n"
     ]
    },
    {
     "data": {
      "image/png": "[encoded data removed]",
      "text/plain": [
       "<Figure size 432x288 with 1 Axes>"
      ]
     },
     "metadata": {
      "needs_background": "light"
     },
     "output_type": "display_data"
    }
   ],
   "source": [
    "###### apply logistic regression\n",
    "from sklearn import linear_model\n",
    "from sklearn.neural_network import MLPClassifier\n",
    "\n",
    "# define regularisation parameter\n",
    "lmbdas = np.logspace(-5, 5, 11)\n",
    "\n",
    "# preallocate data\n",
    "train_accuracy = np.zeros(lmbdas.shape, np.float64)\n",
    "test_accuracy = np.zeros(lmbdas.shape, np.float64)\n",
    "critical_accuracy = np.zeros(lmbdas.shape, np.float64)\n",
    "\n",
    "train_accuracy_SGD = np.zeros(lmbdas.shape, np.float64)\n",
    "test_accuracy_SGD = np.zeros(lmbdas.shape, np.float64)\n",
    "critical_accuracy_SGD = np.zeros(lmbdas.shape, np.float64)\n",
    "\n",
    "# loop over regularisation strength\n",
    "for i, lmbda in enumerate(lmbdas):\n",
    "\n",
    "    # define logistic regressor\n",
    "    logreg = linear_model.LogisticRegression(\n",
    "        C=1.0 / lmbda,\n",
    "        random_state=1,\n",
    "        verbose=0,\n",
    "        max_iter=1e3,\n",
    "        tol=1e-5,\n",
    "        solver=\"liblinear\",\n",
    "    )\n",
    "\n",
    "    # fit training data\n",
    "    logreg.fit(X_train, Y_train)\n",
    "\n",
    "    # check accuracy\n",
    "    train_accuracy[i] = logreg.score(X_train, Y_train)\n",
    "    test_accuracy[i] = logreg.score(X_test, Y_test)\n",
    "    critical_accuracy[i] = logreg.score(X_critical, Y_critical)\n",
    "\n",
    "    print(\"accuracy: train, test, critical\")\n",
    "    print(\n",
    "        \"liblin: %0.4f, %0.4f, %0.4f\"\n",
    "        % (train_accuracy[i], test_accuracy[i], critical_accuracy[i])\n",
    "    )\n",
    "\n",
    "    # define SGD-based logistic regression\n",
    "    logreg_SGD = linear_model.SGDClassifier(\n",
    "        loss=\"log\",\n",
    "        penalty=\"l2\",\n",
    "        alpha=lmbda,\n",
    "        max_iter=100,\n",
    "        shuffle=True,\n",
    "        random_state=1,\n",
    "        learning_rate=\"optimal\",\n",
    "    )\n",
    "\n",
    "    # fit training data\n",
    "    logreg_SGD.fit(X_train, Y_train)\n",
    "\n",
    "    # check accuracy\n",
    "    train_accuracy_SGD[i] = logreg_SGD.score(X_train, Y_train)\n",
    "    test_accuracy_SGD[i] = logreg_SGD.score(X_test, Y_test)\n",
    "    critical_accuracy_SGD[i] = logreg_SGD.score(X_critical, Y_critical)\n",
    "\n",
    "    print(\n",
    "        \"SGD: %0.4f, %0.4f, %0.4f\"\n",
    "        % (train_accuracy_SGD[i], test_accuracy_SGD[i], critical_accuracy_SGD[i])\n",
    "    )\n",
    "\n",
    "    print(\"finished computing %i/11 iterations\" % (i + 1))\n",
    "\n",
    "# plot accuracy against regularisation strength\n",
    "plt.semilogx(lmbdas, train_accuracy, \"*-b\", label=\"liblinear train\")\n",
    "plt.semilogx(lmbdas, test_accuracy, \"*-r\", label=\"liblinear test\")\n",
    "plt.semilogx(lmbdas, critical_accuracy, \"*-g\", label=\"liblinear critical\")\n",
    "\n",
    "plt.semilogx(lmbdas, train_accuracy_SGD, \"*--b\", label=\"SGD train\")\n",
    "plt.semilogx(lmbdas, test_accuracy_SGD, \"*--r\", label=\"SGD test\")\n",
    "plt.semilogx(lmbdas, critical_accuracy_SGD, \"*--g\", label=\"SGD critical\")\n",
    "\n",
    "plt.xlabel(\"$\\\\lambda$\")\n",
    "plt.ylabel(\"$\\\\mathrm{accuracy}$\")\n",
    "\n",
    "plt.grid()\n",
    "plt.legend()\n",
    "\n",
    "\n",
    "plt.show()\n"
   ]
  },
  {
   "cell_type": "markdown",
   "metadata": {
    "collapsed": true
   },
   "source": [
    "## Interpreting the results\n",
    "\n",
    "The first thing we can read off the figure above is the relative degree of overfitting. This information is contained in the difference in accuracy of our model on the training (blue) and test (red) datasets. Notice that the accuracy difference between test and training sets is significant but not unreasonable, within $10\\%$. Interestingly, which optimizer performs better depends on the value of the regularization strength. Moreover, similar to the Linear Regression examples, we find that there exists a sweet spot for the regularization strength $\\lambda$ that results in optimal performance of the logistic regressor, at about $\\lambda\\sim 10^{-1}$.\n",
    "\n",
    "Due to the physics of the Ising model close to criticality, we expect that predicting the phase of a sample will become much more difficult close to the critical point. We can visually see this by looking at the states in the critical region, (see Fig. above and plot other examples). Notice that it is no longer easy even for a trained human eye to distinguish between the ferromagnetic and the disordered phases close to $T_c$. \n",
    "\n",
    "It is an interesting exercise to compare the training and test accuracies in the ordered and disordered phases to the accuracy of the model near the critical point (i.e. critical states). Recall that the model is not trained on critical states. Notice that the accuracy is about $10\\%$ smaller for the critical states (green curves). \n"
   ]
  },
  {
   "cell_type": "markdown",
   "metadata": {},
   "source": [
    "### Exercises: ###  \n",
    "<ul>\n",
    "<li> Change the regularization to $L^1$, or $L^1+L^2$ (i.e. elastic net, see Notebook 2 for more details), and study the performance of the model.\n",
    "\n",
    "<li> Try out different solvers supported by `LogisticRegression()`, [see online scikit documentation](http://scikit-learn.org/stable/modules/generated/sklearn.linear_model.LogisticRegression.html). How do they compare to `liblinear` and `SGD`?\n",
    "\n",
    "<li> One can expect the regressor to be maximally confused exactly at the critical point. Take the data states for the closest temperature, i.e. $T/J=2.5$, and check the performance of the model. Do we get an accuracy of about $50\\%$? Does this depend on the proportion of ordered to disordered states in the training set?\n",
    "\n",
    "<li> Take the regressor trained on the square lattice Ising model, and try to predict the phases on a different lattice geometry (e.g. triangular or honeycomb). What accuracy do you obtain? Can you roughly locate the critical point in this new model? Note that this requires you to generate your own dataset using Monte-Carlo sampling.\n",
    "</ul>"
   ]
  },
  {
   "cell_type": "code",
   "execution_count": null,
   "metadata": {},
   "outputs": [],
   "source": []
  }
 ],
 "metadata": {
  "anaconda-cloud": {},
  "kernelspec": {
   "display_name": "Python 3.10.4 ('cphy')",
   "language": "python",
   "name": "python3"
  },
  "language_info": {
   "codemirror_mode": {
    "name": "ipython",
    "version": 3
   },
   "file_extension": ".py",
   "mimetype": "text/x-python",
   "name": "python",
   "nbconvert_exporter": "python",
   "pygments_lexer": "ipython3",
   "version": "3.10.4"
  },
  "vscode": {
   "interpreter": {
    "hash": "0e972983abb2b5c6293c34082f6ff1f6e60e8afbd2a068e0026ccecbb212fdb6"
   }
  }
 },
 "nbformat": 4,
 "nbformat_minor": 1
}
