{
 "cells": [
  {
   "cell_type": "code",
   "execution_count": 1,
   "id": "9ee03d2d-906b-4dee-aee1-b48f2a17a887",
   "metadata": {},
   "outputs": [],
   "source": [
    "import numpy as np\n",
    "from IPython.display import Image, display\n",
    "\n",
    "import matplotlib.pyplot as plt\n",
    "%matplotlib inline\n",
    "\n",
    "%load_ext autoreload\n",
    "%autoreload 2\n"
   ]
  },
  {
   "cell_type": "markdown",
   "id": "89957a4d",
   "metadata": {},
   "source": [
    "# Partial differential equations\n",
    "\n",
    "+ Think of these as an infinite set of ordinary differential equations is called a partial differential equation (PDE).\n",
    "+ In numerical methods, we split up this set into a finite set of ODEs, usually by \"meshing\" the domain into a finite set of points.\n",
    "\n",
    "\n",
    "# Boundary conditions\n",
    "\n",
    "+ The boundary conditions are the conditions on the solution at the boundary of the domain, whether the domain is space or time\n",
    "+ The boundary conditions are usually specified as a function of the independent variable(s) (e.g. time or space) on a subset of the domain\n",
    "\n",
    "\n",
    "# Projecting onto basis functions\n",
    "\n",
    "+ Instead of meshing space directly, project onto a finite set of basis functions that span the space\n",
    "+ Basically like meshing in momentum space, if our PDE is in position space\n",
    "+ The basis functions are usually chosen to be orthogonal, and our resulting dynamical variables are the amplitudes of various \"modes\"\n",
    "+ Fourier basis functions are the most common (assumes domain is a torus), but there are many others. Chebyshev polynomials are another common choice for cases where the domain is a finite interval"
   ]
  },
  {
   "cell_type": "markdown",
   "id": "91a86780",
   "metadata": {},
   "source": []
  },
  {
   "cell_type": "code",
   "execution_count": null,
   "id": "f910d70c",
   "metadata": {},
   "outputs": [],
   "source": [
    "class WaveEquation:\n",
    "\n",
    "    def __init__(self, x, t, c, dx, dt):\n",
    "        self.x = x\n",
    "        self.t = t\n",
    "        self.c = c\n",
    "        self.dx = dx\n",
    "        self.dt = dt\n",
    "        self.dt2 = dt ** 2\n",
    "        self.dx2 = dx ** 2\n",
    "        self.nx = len(x)\n",
    "        self.nt = len(t)\n",
    "        self.u = np.zeros((self.nx, self.nt))\n",
    "        self.u[0, :] = 0\n",
    "        self.u[-1, :] = 0\n",
    "        self.u[:, 0] = 0\n",
    "        self.u[:, 1] = 0\n",
    "        self.u[:, 2] = 0\n",
    "\n",
    "    def solve(self):\n",
    "        for i in range(2, self.nt - 1):\n",
    "            for j in range(1, self.nx - 1):\n",
    "                self.u[j, i + 1] = 2 * self.u[j, i] - self.u[j, i - 1] + \\\n",
    "                    self.c ** 2 * self.dt2 / self.dx2 * (self.u[j + 1, i] - 2 * self.u[j, i] + self.u[j - 1, i])\n",
    "\n"
   ]
  },
  {
   "cell_type": "code",
   "execution_count": null,
   "id": "4e126d02",
   "metadata": {},
   "outputs": [],
   "source": []
  },
  {
   "cell_type": "code",
   "execution_count": null,
   "id": "bb788dcf",
   "metadata": {},
   "outputs": [],
   "source": []
  },
  {
   "cell_type": "code",
   "execution_count": null,
   "id": "7f6ac177",
   "metadata": {},
   "outputs": [],
   "source": []
  },
  {
   "cell_type": "code",
   "execution_count": null,
   "id": "d95a91cd",
   "metadata": {},
   "outputs": [],
   "source": []
  },
  {
   "cell_type": "code",
   "execution_count": null,
   "id": "f9e8c889",
   "metadata": {},
   "outputs": [],
   "source": []
  },
  {
   "cell_type": "code",
   "execution_count": null,
   "id": "393a0a53",
   "metadata": {},
   "outputs": [],
   "source": []
  },
  {
   "cell_type": "code",
   "execution_count": null,
   "id": "8cc20f6d",
   "metadata": {},
   "outputs": [],
   "source": []
  },
  {
   "cell_type": "code",
   "execution_count": null,
   "id": "1fc21dfb",
   "metadata": {},
   "outputs": [],
   "source": []
  },
  {
   "cell_type": "code",
   "execution_count": null,
   "id": "6c7866d6",
   "metadata": {},
   "outputs": [],
   "source": []
  },
  {
   "cell_type": "code",
   "execution_count": null,
   "id": "05c80145",
   "metadata": {},
   "outputs": [],
   "source": []
  },
  {
   "cell_type": "code",
   "execution_count": null,
   "id": "d055f70a",
   "metadata": {},
   "outputs": [],
   "source": []
  },
  {
   "cell_type": "code",
   "execution_count": null,
   "id": "c875b1bd",
   "metadata": {},
   "outputs": [],
   "source": []
  },
  {
   "cell_type": "code",
   "execution_count": null,
   "id": "988c6727",
   "metadata": {},
   "outputs": [],
   "source": []
  },
  {
   "cell_type": "code",
   "execution_count": null,
   "id": "9081cd29",
   "metadata": {},
   "outputs": [],
   "source": []
  },
  {
   "cell_type": "code",
   "execution_count": null,
   "id": "91668e85",
   "metadata": {},
   "outputs": [],
   "source": []
  },
  {
   "cell_type": "code",
   "execution_count": null,
   "id": "de917ffd",
   "metadata": {},
   "outputs": [],
   "source": []
  },
  {
   "cell_type": "code",
   "execution_count": null,
   "id": "c62f0c40",
   "metadata": {},
   "outputs": [],
   "source": []
  },
  {
   "cell_type": "code",
   "execution_count": null,
   "id": "e30bbfec",
   "metadata": {},
   "outputs": [],
   "source": []
  },
  {
   "cell_type": "code",
   "execution_count": null,
   "id": "cc46d60b",
   "metadata": {},
   "outputs": [],
   "source": []
  },
  {
   "cell_type": "code",
   "execution_count": null,
   "id": "1096b964",
   "metadata": {},
   "outputs": [],
   "source": []
  },
  {
   "cell_type": "code",
   "execution_count": null,
   "id": "afd3cd0b",
   "metadata": {},
   "outputs": [],
   "source": []
  },
  {
   "cell_type": "code",
   "execution_count": null,
   "id": "0e932511",
   "metadata": {},
   "outputs": [],
   "source": []
  },
  {
   "cell_type": "code",
   "execution_count": null,
   "id": "895b021f",
   "metadata": {},
   "outputs": [],
   "source": []
  },
  {
   "cell_type": "code",
   "execution_count": null,
   "id": "89a48d7c",
   "metadata": {},
   "outputs": [],
   "source": []
  },
  {
   "cell_type": "code",
   "execution_count": null,
   "id": "a0d7ed69",
   "metadata": {},
   "outputs": [],
   "source": []
  },
  {
   "cell_type": "code",
   "execution_count": null,
   "id": "8efea665",
   "metadata": {},
   "outputs": [],
   "source": []
  },
  {
   "cell_type": "code",
   "execution_count": null,
   "id": "7b3c0464",
   "metadata": {},
   "outputs": [],
   "source": []
  }
 ],
 "metadata": {
  "kernelspec": {
   "display_name": "Python 3.10.4 ('cphy')",
   "language": "python",
   "name": "python3"
  },
  "language_info": {
   "codemirror_mode": {
    "name": "ipython",
    "version": 3
   },
   "file_extension": ".py",
   "mimetype": "text/x-python",
   "name": "python",
   "nbconvert_exporter": "python",
   "pygments_lexer": "ipython3",
   "version": "3.10.4"
  },
  "vscode": {
   "interpreter": {
    "hash": "0e972983abb2b5c6293c34082f6ff1f6e60e8afbd2a068e0026ccecbb212fdb6"
   }
  }
 },
 "nbformat": 4,
 "nbformat_minor": 5
}
