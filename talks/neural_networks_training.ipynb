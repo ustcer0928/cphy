{
 "cells": [
  {
   "cell_type": "code",
   "execution_count": 1,
   "metadata": {},
   "outputs": [],
   "source": [
    "## Preamble / required packages\n",
    "import numpy as np\n",
    "np.random.seed(0)\n",
    "\n",
    "## Import local plotting functions and in-notebook display functions\n",
    "import matplotlib.pyplot as plt\n",
    "from IPython.display import Image, display\n",
    "%matplotlib inline\n",
    "\n",
    "import warnings\n",
    "## Comment this out to activate warnings\n",
    "warnings.filterwarnings('ignore')\n",
    "\n",
    "\n",
    "plt.style.use(\"dark_background\")"
   ]
  },
  {
   "cell_type": "markdown",
   "metadata": {},
   "source": [
    "# How do we train this?\n",
    "\n",
    "Gradient descent:\n",
    "\n",
    "$$\\theta_{i+1} = \\theta_i - \\eta \\frac{\\partial \\mathcal{L}}{\\partial \\theta_i}$$\n",
    "\n",
    "where $\\eta$ is the learning rate.\n",
    "\n",
    "### For a linear model:\n",
    "\n",
    "$$\\hat{y} = \\theta_0 + \\theta_1 x_1 + \\theta_2 x_2 + \\cdots + \\theta_n x_n$$\n",
    "\n",
    "$$\\mathcal{L} = \\frac{1}{2} \\sum_{i=1}^n (\\hat{y}_i - y_i)^2$$\n",
    "\n",
    "$$\\frac{\\partial \\mathcal{L}}{\\partial \\theta_j} = \\sum_{i=1}^n (\\hat{y}_i - y_i) x_{ij}$$\n",
    "\n",
    "$$\\theta_{i+1} = \\theta_i - \\eta \\sum_{i=1}^n (\\hat{y}_i - y_i) x_{ij}$$\n",
    "\n",
    "### For a logistic model:\n",
    "\n",
    "$$\\hat{y} = \\frac{1}{1 + e^{-\\theta_0 - \\theta_1 x_1 - \\theta_2 x_2 - \\cdots - \\theta_n x_n}}$$\n",
    "\n",
    "$$\\mathcal{L} = \\sum_{i=1}^n y_i \\log \\hat{y}_i + (1 - y_i) \\log (1 - \\hat{y}_i)$$\n",
    "\n",
    "\n",
    "# How do we train this?\n",
    "\n"
   ]
  },
  {
   "cell_type": "code",
   "execution_count": null,
   "metadata": {},
   "outputs": [],
   "source": []
  },
  {
   "cell_type": "code",
   "execution_count": 116,
   "metadata": {},
   "outputs": [
    {
     "data": {
      "text/plain": [
       "(array([  23.,  231.,  734., 1300., 1351.,  843.,  362.,  110.,   40.,\n",
       "           9.]),\n",
       " array([ 1. ,  3.1,  5.2,  7.3,  9.4, 11.5, 13.6, 15.7, 17.8, 19.9, 22. ]),\n",
       " <BarContainer object of 10 artists>)"
      ]
     },
     "execution_count": 116,
     "metadata": {},
     "output_type": "execute_result"
    },
    {
     "data": {
      "image/png": "[encoded data removed]",
      "text/plain": [
       "<Figure size 640x480 with 1 Axes>"
      ]
     },
     "metadata": {},
     "output_type": "display_data"
    }
   ],
   "source": [
    "population = np.arange(1000)\n",
    "\n",
    "all_overlaps = []\n",
    "for i in range(5003):\n",
    "    sample1 = np.random.choice(population, 100, replace=False)\n",
    "    sample2 = np.random.choice(population, 100, replace=False)\n",
    "\n",
    "    # number of overlaps\n",
    "    all_overlaps.append(len(set(sample1).intersection(sample2)))\n",
    "\n",
    "plt.hist(all_overlaps)"
   ]
  },
  {
   "cell_type": "code",
   "execution_count": null,
   "metadata": {},
   "outputs": [],
   "source": []
  },
  {
   "cell_type": "markdown",
   "metadata": {},
   "source": [
    "# Math is hard\n",
    "\n",
    "+ Computing symbolic gradients is exact but laborious\n",
    "+ Numerical gradients are approximate, easy, but expensive\n",
    "+ If the input to our network is $N$-dimensional, then we need to compute $N$ gradients. For a 1 Megapixel image, this is a million gradient operations per gradient descent step\n",
    "\n",
    "*Automatic differentiation* is a technique that can compute the *exact* gradient of a function in a computationally-efficient manner.\n",
    "\n",
    "*Backpropagation* is reverse-mode autodiff applied to deep neural networks."
   ]
  },
  {
   "cell_type": "code",
   "execution_count": 7,
   "metadata": {},
   "outputs": [
    {
     "name": "stdout",
     "output_type": "stream",
     "text": [
      "-0.029225168711847025\n",
      "-0.4781751223381389\n"
     ]
    }
   ],
   "source": [
    "def double_well(x):\n",
    "    \"\"\"Double well potential function\"\"\"\n",
    "    return x**4 - 2*x**2\n",
    "\n",
    "def double_well_grad(x):\n",
    "    \"\"\"Derivative of double well potential function\"\"\"\n",
    "    return 4*x**3 - 4*x\n",
    "\n",
    "print(double_well(0.12132987))\n",
    "print(double_well_grad(0.12132987))"
   ]
  },
  {
   "cell_type": "markdown",
   "metadata": {},
   "source": [
    "### Let's write out these functions in terms of basic computational steps"
   ]
  },
  {
   "cell_type": "code",
   "execution_count": 8,
   "metadata": {},
   "outputs": [
    {
     "name": "stdout",
     "output_type": "stream",
     "text": [
      "-0.029225168711847025\n",
      "-0.4781751223381389\n"
     ]
    }
   ],
   "source": [
    "def double_well_primitive(x):\n",
    "    \"\"\"Decompose the double well calculation into primitive operations\"\"\"\n",
    "    h1a = x**4\n",
    "    h1b = 2*x**2\n",
    "    h2 = h1a - h1b\n",
    "    return h2\n",
    "\n",
    "def double_well_primitive_grad(x):\n",
    "    \"\"\"Decompose the double well gradient calculation into primitive operations\"\"\"\n",
    "    dh2dh1a = 1\n",
    "    dh2dh1b = -1\n",
    "    dh1adx = 4*x**3\n",
    "    dh1bdx = 4*x\n",
    "    dh2dx = dh2dh1a * dh1adx + dh2dh1b * dh1bdx\n",
    "    return dh2dx\n",
    "\n",
    "print(double_well_primitive(0.12132987))\n",
    "print(double_well_primitive_grad(0.12132987))"
   ]
  },
  {
   "cell_type": "markdown",
   "metadata": {},
   "source": [
    "## A neural network example\n",
    "\n",
    "### Forward pass\n",
    "\n",
    "$$\n",
    "\\hat{\\mathbf{y}} = \\sigma(\\boldsymbol{\\theta}_2 \\sigma(\\boldsymbol{\\theta}_1 \\mathbf{x}))\n",
    "$$\n",
    "for concreteness, we will use the sigmoid nonlinearity $\\sigma(x) = \\frac{1}{1 + e^{-x}}$.\n",
    "\n",
    "We start by breaking this into single steps\n",
    "\n",
    "$$\n",
    "\\mathbf{h}_1^{u} = \\boldsymbol{\\theta}_1 \\mathbf{x}\n",
    "$$\n",
    "\n",
    "$$\n",
    "\\mathbf{h}_1 = \\sigma(\\mathbf{h}_1^{u})\n",
    "$$\n",
    "\n",
    "$$\n",
    "\\mathbf{h}_2^{u} = \\boldsymbol{\\theta}_2 \\mathbf{h}_1\n",
    "$$\n",
    "\n",
    "$$\n",
    "\\hat{\\mathbf{y}} = \\sigma(\\mathbf{h}_2^{u})\n",
    "$$\n",
    "\n",
    "\n",
    "### Backward pass\n",
    "\n",
    "Suppose we pass an input $\\mathbf{x}$ and get an output $\\hat{\\mathbf{y}}$, and we know the true output is $\\mathbf{y}$.\n",
    "\n",
    "If we are using the mean-squared error loss function, then\n",
    "\n",
    "$$\n",
    "\\mathcal{L} = \\frac{1}{2} \\sum_{i=1}^n (\\hat{y}_i - y_i)^2 = \\frac{1}{2} (\\hat{\\mathbf{y}} - \\mathbf{y})^\\top(\\hat{\\mathbf{y}} - \\mathbf{y})\n",
    "$$\n",
    "\n",
    "We want to update all the parameters $\\boldsymbol{\\theta}_1$ and $\\boldsymbol{\\theta}_2$ to minimize this loss.\n",
    "\n",
    "We traverse the network *backwards* in order to compute gradients.\n",
    "\n",
    "$$\n",
    "\\frac{\\partial \\mathcal{L}}{\\partial \\boldsymbol{\\theta}_2} = \\frac{\\partial \\mathcal{L}}{\\partial \\hat{\\mathbf{y}}} \\frac{\\partial \\hat{\\mathbf{y}}}{\\partial \\mathbf{h}_2^{u}} \\frac{\\partial \\mathbf{h}_2^{u}}{\\partial \\boldsymbol{\\theta}_2}\n",
    "$$\n",
    "\n",
    "Solving this sequence from left-to-right,\n",
    "\n",
    "$$\n",
    "\\frac{\\partial \\mathcal{L}}{\\partial \\hat{\\mathbf{y}}} = \\hat{\\mathbf{y}} - \\mathbf{y}\n",
    "$$\n",
    "\n",
    "$$\n",
    "\\frac{\\partial \\hat{\\mathbf{y}}}{\\partial \\mathbf{h}_2^{u}} = \\hat{\\mathbf{y}} (1 - \\hat{\\mathbf{y}})\n",
    "$$\n",
    "\n",
    "$$\n",
    "\\frac{\\partial \\mathbf{h}_2^{u}}{\\partial \\boldsymbol{\\theta}_2} = \\mathbf{h}_1^\\top\n",
    "$$\n",
    "\n",
    "Putting this all together,\n",
    "\n",
    "$$\n",
    "\\frac{\\partial \\mathcal{L}}{\\partial \\boldsymbol{\\theta}_2} = (\\hat{\\mathbf{y}} - \\mathbf{y}) \\odot \\hat{\\mathbf{y}} (1 - \\hat{\\mathbf{y}}) \\mathbf{h}_1^\\top\n",
    "$$\n",
    "\n",
    "\n",
    "\n",
    "Several things to notice: several of the \"intermediate\" values we computed during the forward pass reappear here. If we cached these values, then we don't have to recompute them during the backward pass. Also, notice that the sigmoid function's derivative is a function of its output. This is a common pattern in autodiff. In order to keep track of indicies and transposes, it helps to think about the dimensions of the input/output of each primitive operation. Additionally, it's useful to remember the some [rules for matrix multiplication:](https://www.math.uwaterloo.ca/~hwolkowi/matrixcookbook.pdf)\n",
    "\n",
    "$$\n",
    "\\frac{\\partial\\mathbf{A} \\mathbf{B}}{\\partial \\mathbf{A}} = \\mathbf{B}^\\top, \\qquad\n",
    "\\frac{\\partial\\mathbf{A} \\mathbf{B}}{\\partial \\mathbf{B}} = \\mathbf{A}\n",
    "$$\n",
    "<!-- \n",
    "These left-right rules are also used in the derivation of the linear regression pseudoinverse global solution.\n",
    "\n",
    "Additionally, we should remember the chain rule for derivatives:\n",
    "$$\n",
    "\\frac{\\partial\\mathbf{A}(u) \\mathbf{B}(u)}{\\partial u} = \\frac{\\partial\\mathbf{A}(u)}{\\partial u} \\mathbf{B}(u) + \\mathbf{A}(u) \\frac{\\partial\\mathbf{B}(u)}{\\partial u}\n",
    "$$ -->\n"
   ]
  },
  {
   "cell_type": "code",
   "execution_count": null,
   "metadata": {},
   "outputs": [],
   "source": [
    "a = np.random.random((2, 2))\n",
    "x = np.random.random((2, 1))\n",
    "\n",
    "def ff(x):\n",
    "    \"\"\"Feedforward pass\"\"\"\n",
    "    return np.dot(a, x)\n",
    "\n",
    "def ff_grad(x):\n",
    "    \"\"\"Gradient of feedforward pass\"\"\"\n",
    "    return a"
   ]
  },
  {
   "cell_type": "markdown",
   "metadata": {},
   "source": [
    "### Harder cases: branching paths, loops, and shared weights"
   ]
  },
  {
   "cell_type": "code",
   "execution_count": null,
   "metadata": {},
   "outputs": [],
   "source": []
  },
  {
   "cell_type": "markdown",
   "metadata": {},
   "source": [
    "### Let the computer do the work\n",
    "\n",
    "+ Most existing deep learning frameworks are built on top of autodiff\n",
    "+ Tensorflow, PyTorch, JAX, and many others allow you to specify the neural network as a function, and can compute the gradient automatically as long as everything is differentiable\n",
    "+ Implictly, these networks build a computation \"graph\" that is later traversed backwards to compute the gradient\n",
    "+ Caching forward pass values can speed up the backwards pass, since many derivatives depend on forward pass values"
   ]
  },
  {
   "cell_type": "code",
   "execution_count": 17,
   "metadata": {},
   "outputs": [
    {
     "name": "stdout",
     "output_type": "stream",
     "text": [
      "Forward pass value: -0.029225168711847025\n",
      "Analytic calculation backwards pass -0.4781751223381389\n",
      "Jax autodiff backwards pass -0.4781751\n"
     ]
    }
   ],
   "source": [
    "import jax\n",
    "\n",
    "def double_well(x):\n",
    "    \"\"\"Double well potential function\"\"\"\n",
    "    return x**4 - 2*x**2\n",
    "\n",
    "print(\"Forward pass value:\", double_well_jax(0.12132987))\n",
    "print(\"Analytic calculation backwards pass\", double_well_grad(0.12132987))\n",
    "print(\"Jax autodiff backwards pass\", jax.grad(double_well)(0.12132987))\n"
   ]
  },
  {
   "cell_type": "code",
   "execution_count": null,
   "metadata": {},
   "outputs": [],
   "source": [
    "## A multilayer perceptron classifier class\n",
    "\n",
    "class MLPClassifier:\n",
    "\n",
    "    def __init__(self, n_hidden, n_output, n_features, learning_rate=0.01, max_iter=1000, verbose=False):\n",
    "        \"\"\"Initialize the MLP classifier.\n",
    "\n",
    "        Parameters\n",
    "        ----------\n",
    "        n_hidden : int\n",
    "            Number of hidden units\n",
    "        n_output : int\n",
    "            Number of output units\n",
    "        n_features : int\n",
    "            Number of features\n",
    "        learning_rate : float, optional\n",
    "            Learning rate, by default 0.01\n",
    "        max_iter : int, optional\n",
    "            Maximum number of iterations, by default 1000\n",
    "        verbose : bool, optional\n",
    "            Print progress, by default False\n",
    "        \"\"\"\n",
    "        self.n_hidden = n_hidden\n",
    "        self.n_output = n_output\n",
    "        self.n_features = n_features\n",
    "        self.learning_rate = learning_rate\n",
    "        self.max_iter = max_iter\n",
    "        self.verbose = verbose\n",
    "\n",
    "        # Initialize weights\n",
    "        self.weights = self._initialize_weights()\n",
    "\n",
    "    def _initialize_weights(self):\n",
    "        \"\"\"Initialize weights for the network.\n",
    "\n",
    "        Returns\n",
    "        -------\n",
    "        dict\n",
    "            Dictionary of weights\n",
    "        \"\"\"\n",
    "        weights = {\n",
    "            \"W1\": np.random.normal(0, 0.1, (self.n_features, self.n_hidden)),\n",
    "            \"b1\": np.zeros((1, self.n_hidden)),\n",
    "            \"W2\": np.random.normal(0, 0.1, (self.n_hidden, self.n_output)),\n",
    "            \"b2\": np.zeros((1, self.n_output))\n",
    "        }\n",
    "        return weights\n",
    "\n",
    "    def _sigmoid(self, x):\n",
    "        \"\"\"Sigmoid activation function\"\"\"\n",
    "        return 1 / (1 + np.exp(-x))\n",
    "\n",
    "    def _sigmoid_derivative(self, x):\n",
    "        \"\"\"Derivative of sigmoid activation function\"\"\"\n",
    "        return self._sigmoid(x) * (1 - self._sigmoid(x))\n",
    "\n",
    "    def _forward_pass(self, X):\n",
    "        \"\"\"Forward pass through the network.\n",
    "\n",
    "        Parameters\n",
    "        ----------\n",
    "        X : np.ndarray\n",
    "            Input data\n",
    "\n",
    "        Returns\n",
    "        -------\n",
    "        dict\n",
    "            Dictionary of activations\n",
    "        \"\"\"\n",
    "        # Input layer\n",
    "        A1 = X\n",
    "        # Hidden layer\n",
    "        Z2 = A1 @ self.weights[\"W1\"] + self.weights[\"b1\"]\n",
    "        A2 = self._sigmoid(Z2)\n",
    "        # Output layer\n",
    "        Z3 = A2 @ self.weights[\"W2\"] + self.weights[\"b2\"]\n",
    "        A3 = self._"
   ]
  }
 ],
 "metadata": {
  "kernelspec": {
   "display_name": "Python 3.10.4 ('cphy')",
   "language": "python",
   "name": "python3"
  },
  "language_info": {
   "codemirror_mode": {
    "name": "ipython",
    "version": 3
   },
   "file_extension": ".py",
   "mimetype": "text/x-python",
   "name": "python",
   "nbconvert_exporter": "python",
   "pygments_lexer": "ipython3",
   "version": "3.10.4"
  },
  "vscode": {
   "interpreter": {
    "hash": "0e972983abb2b5c6293c34082f6ff1f6e60e8afbd2a068e0026ccecbb212fdb6"
   }
  }
 },
 "nbformat": 4,
 "nbformat_minor": 2
}
